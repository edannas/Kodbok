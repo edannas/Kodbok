{
 "cells": [
  {
   "cell_type": "markdown",
   "metadata": {},
   "source": [
    "# Python"
   ]
  },
  {
   "cell_type": "markdown",
   "metadata": {},
   "source": [
    "### Numpy"
   ]
  },
  {
   "cell_type": "code",
   "execution_count": null,
   "metadata": {},
   "outputs": [],
   "source": [
    "np.where(lista == x) # returnerar lista med alla index där elementet i lista är x"
   ]
  },
  {
   "cell_type": "markdown",
   "metadata": {},
   "source": [
    "### Matplotlib"
   ]
  },
  {
   "cell_type": "markdown",
   "metadata": {},
   "source": [
    "#### Pyplot"
   ]
  },
  {
   "cell_type": "code",
   "execution_count": null,
   "metadata": {},
   "outputs": [],
   "source": [
    "import matplotlib.pyplot as plt"
   ]
  },
  {
   "cell_type": "markdown",
   "metadata": {},
   "source": [
    "### Pandas"
   ]
  },
  {
   "cell_type": "code",
   "execution_count": null,
   "metadata": {},
   "outputs": [],
   "source": [
    "import pandas as pd\n",
    "\n",
    "df = pd.read_csv(\"filnamn.csv\") # läser in csv-fil till dataframe\n",
    "\n",
    "df.head() # visar innehåll i df"
   ]
  },
  {
   "cell_type": "markdown",
   "metadata": {},
   "source": [
    "### Allmänt"
   ]
  },
  {
   "cell_type": "code",
   "execution_count": null,
   "metadata": {},
   "outputs": [],
   "source": [
    "f = open('filnamn.csv', sep=';', decimal=\",\") # öppna fil, med ; som separatör och , som decimaltecken\n",
    "f.close() # stäng fil\n",
    "\n",
    "whos # ger information om variabler\n",
    "\n",
    "print(f'a\\N{superscript THREE}') # superscript\n",
    "\n",
    "sp.init_printing() # pretty print\n",
    "\n",
    "print('Hello {}'.format('there')) # formatera sträng"
   ]
  },
  {
   "cell_type": "markdown",
   "metadata": {},
   "source": [
    "# Terminal/Bash"
   ]
  },
  {
   "cell_type": "code",
   "execution_count": null,
   "metadata": {},
   "outputs": [],
   "source": [
    "man <command> # shows manual page for command, including all options\n",
    "\n",
    "pwd # pathway to current directory\n",
    "\n",
    "ls # lists all files in current folder (dir on windows)\n",
    "ls -l # long version, more information\n",
    "\n",
    "cd <name> # \"change directory\" to subfolder\n",
    "cd .. # \"change directory\", return to parent folder\n",
    "$HOME # returns home directory\n",
    "\n",
    "mkdir <name> # \"make directory\", create new folder\n",
    "touch <name> # creates file in current directory\n",
    "touch {1..10}.txt # creates 10 txt-files named 1.txt through 10.txt\n",
    "rm <name> # remove file\n",
    "rm * # removes all files in current directory\n",
    "open <file> # open file\n",
    "\n",
    "clear # clears window, keeps information in variables etc.\n",
    "\n",
    "#!/bin/bash # shebang for bash shell script\n",
    "#!/usr/bin/python3 # shebang for Python3 shell script\n",
    "\n",
    "python3 # open Python3\n",
    "python3 <program-name>.py # run Python program\n",
    "./<file_name.sh> # run bash shell script\n",
    "\n",
    "var1=1 # defining variable and assigning value (space sensitive!)\n",
    "var2=2\n",
    "\n",
    "$var # gives content (value) of variable\n",
    "echo <abc> # returns abc\n",
    "\n",
    "var3=var1+var2 # assigns the string var1+var2 to variable var3\n",
    "var3=$var1+$var2 # assigns the string 1+2 to variable var3\n",
    "var3=$((var1+var2)) # assigns the value 3 to variable var3\n",
    "\n",
    "date # returns current date\n",
    "\n",
    "echo <information> > <file> # overwrites file with information, can also create new file\n",
    "echo <information> >> <file> # adds information to file, can also create new file\n",
    "echo <Hello there> \\n<General Kenobi> >> <file> # add multiple rows of information to file\n",
    "\n",
    "cat << EOF >> file.txt # add multiple rows of information to file\n",
    "Hello there\n",
    "General Kenobi\n",
    "EOF\n",
    "\n",
    "<command> >> <file> # redirects command output to file\n",
    "\n",
    "cat <file> # view content of file"
   ]
  }
 ],
 "metadata": {
  "kernelspec": {
   "display_name": "Python 3",
   "language": "python",
   "name": "python3"
  },
  "language_info": {
   "codemirror_mode": {
    "name": "ipython",
    "version": 3
   },
   "file_extension": ".py",
   "mimetype": "text/x-python",
   "name": "python",
   "nbconvert_exporter": "python",
   "pygments_lexer": "ipython3",
   "version": "3.8.8"
  }
 },
 "nbformat": 4,
 "nbformat_minor": 4
}
